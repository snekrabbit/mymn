{
 "cells": [
  {
   "cell_type": "code",
   "execution_count": 85,
   "id": "b12612e3-c320-4003-b68c-ed86290c3100",
   "metadata": {
    "collapsed": true,
    "jupyter": {
     "outputs_hidden": true
    },
    "scrolled": true
   },
   "outputs": [],
   "source": [
    "import csv\n",
    "import random"
   ]
  },
  {
   "cell_type": "code",
   "execution_count": 86,
   "id": "fa4a7136-9e68-45d2-837e-0a49ea14a874",
   "metadata": {},
   "outputs": [],
   "source": [
    "def read_cards():\n",
    "    with open(\"/Users/liagiardina/data/tarot.csv\") as file:\n",
    "        row_reader = csv.DictReader(file)\n",
    "        cards = []\n",
    "        for card in row_reader:\n",
    "            cards.append(card)\n",
    "        return cards\n"
   ]
  },
  {
   "cell_type": "code",
   "execution_count": 87,
   "id": "0ecf33b5-b78f-462c-8135-2844ea6951cd",
   "metadata": {},
   "outputs": [],
   "source": [
    "def choose_cards(cards, n):\n",
    "    choice = random.sample(cards, n)\n",
    "    return choice"
   ]
  },
  {
   "cell_type": "code",
   "execution_count": 88,
   "id": "958cde85-2104-4ee9-9e95-a3e7312cd14a",
   "metadata": {},
   "outputs": [],
   "source": [
    "Q3 = [\n",
    "    \"What is energizing me?\", \n",
    "    \"Where can I expect to need grace?\", \n",
    "    \"What should I take a closer look at?\"\n",
    "]\n",
    "def read_3():\n",
    "    deck = read_cards()\n",
    "    choice = choose_cards(deck, 3)\n",
    "    return [\n",
    "        [Q3[0], choice[0]],\n",
    "        [Q3[1], choice[1]],\n",
    "        [Q3[2], choice[2]]\n",
    "    ]"
   ]
  },
  {
   "cell_type": "code",
   "execution_count": 96,
   "id": "ab3969d7",
   "metadata": {},
   "outputs": [],
   "source": [
    "def tarot():\n",
    "    spread = read_3()\n",
    "    print(\"Welcome to your future!\")\n",
    "    print()\n",
    "    for card in spread:\n",
    "        q = card[0]\n",
    "        c = card[1]\n",
    "        cn = c['Tarot Card']\n",
    "        cd = c['Meaning']\n",
    "        print(q)\n",
    "        print(\"  (\", cn, \") \", cd)\n",
    "        print()\n",
    "        input()\n"
   ]
  },
  {
   "cell_type": "code",
   "execution_count": 3,
   "id": "83c8e586",
   "metadata": {},
   "outputs": [
    {
     "ename": "NameError",
     "evalue": "name 'tarot' is not defined",
     "output_type": "error",
     "traceback": [
      "\u001b[0;31m---------------------------------------------------------------------------\u001b[0m",
      "\u001b[0;31mNameError\u001b[0m                                 Traceback (most recent call last)",
      "Cell \u001b[0;32mIn[3], line 1\u001b[0m\n\u001b[0;32m----> 1\u001b[0m tarot()\n",
      "\u001b[0;31mNameError\u001b[0m: name 'tarot' is not defined"
     ]
    }
   ],
   "source": [
    "tarot()"
   ]
  },
  {
   "cell_type": "code",
   "execution_count": 91,
   "id": "78dc8598",
   "metadata": {},
   "outputs": [
    {
     "data": {
      "text/plain": [
       "[['What is energizing me?',\n",
       "  {'Tarot Card': '6 of Pentacles',\n",
       "   'Meaning': \"Action, adventure, fearlessness in the suit's theme\",\n",
       "   'Rank': '70',\n",
       "   'Italian Name': '6 di Pentacoli',\n",
       "   'Position 1 Interpretation': \"Current situation or challenge: Action, adventure, fearlessness in the suit's theme\",\n",
       "   'Position 2 Interpretation': \"Influences or obstacles: Action, adventure, fearlessness in the suit's theme\",\n",
       "   'Position 3 Interpretation': \"Underlying subconscious influences: Action, adventure, fearlessness in the suit's theme\",\n",
       "   'Position 4 Interpretation': \"Recent past affecting the situation: Action, adventure, fearlessness in the suit's theme\",\n",
       "   'Position 5 Interpretation': \"Hopes or fears around the situation: Action, adventure, fearlessness in the suit's theme\",\n",
       "   'Position 6 Interpretation': \"Near future or upcoming influences: Action, adventure, fearlessness in the suit's theme\",\n",
       "   'Position 7 Interpretation': \"The querent's attitude or position: Action, adventure, fearlessness in the suit's theme\",\n",
       "   'Position 8 Interpretation': \"Environmental factors or external influences: Action, adventure, fearlessness in the suit's theme\",\n",
       "   'Position 9 Interpretation': \"Final outcome or resolution: Action, adventure, fearlessness in the suit's theme\"}],\n",
       " ['Where can I expect to need grace?',\n",
       "  {'Tarot Card': 'The World',\n",
       "   'Meaning': 'Completion, integration, accomplishment, travel',\n",
       "   'Rank': '22',\n",
       "   'Italian Name': 'Il Mondo',\n",
       "   'Position 1 Interpretation': 'Current situation or challenge: Completion, integration, accomplishment, travel',\n",
       "   'Position 2 Interpretation': 'Influences or obstacles: Completion, integration, accomplishment, travel',\n",
       "   'Position 3 Interpretation': 'Underlying subconscious influences: Completion, integration, accomplishment, travel',\n",
       "   'Position 4 Interpretation': 'Recent past affecting the situation: Completion, integration, accomplishment, travel',\n",
       "   'Position 5 Interpretation': 'Hopes or fears around the situation: Completion, integration, accomplishment, travel',\n",
       "   'Position 6 Interpretation': 'Near future or upcoming influences: Completion, integration, accomplishment, travel',\n",
       "   'Position 7 Interpretation': \"The querent's attitude or position: Completion, integration, accomplishment, travel\",\n",
       "   'Position 8 Interpretation': 'Environmental factors or external influences: Completion, integration, accomplishment, travel',\n",
       "   'Position 9 Interpretation': 'Final outcome or resolution: Completion, integration, accomplishment, travel'}],\n",
       " ['What should I take a closer look at?',\n",
       "  {'Tarot Card': 'Knight of Cups',\n",
       "   'Meaning': \"Reflection, assessment, direction in the suit's theme\",\n",
       "   'Rank': '48',\n",
       "   'Italian Name': 'Cavaliere di Coppe',\n",
       "   'Position 1 Interpretation': \"Current situation or challenge: Reflection, assessment, direction in the suit's theme\",\n",
       "   'Position 2 Interpretation': \"Influences or obstacles: Reflection, assessment, direction in the suit's theme\",\n",
       "   'Position 3 Interpretation': \"Underlying subconscious influences: Reflection, assessment, direction in the suit's theme\",\n",
       "   'Position 4 Interpretation': \"Recent past affecting the situation: Reflection, assessment, direction in the suit's theme\",\n",
       "   'Position 5 Interpretation': \"Hopes or fears around the situation: Reflection, assessment, direction in the suit's theme\",\n",
       "   'Position 6 Interpretation': \"Near future or upcoming influences: Reflection, assessment, direction in the suit's theme\",\n",
       "   'Position 7 Interpretation': \"The querent's attitude or position: Reflection, assessment, direction in the suit's theme\",\n",
       "   'Position 8 Interpretation': \"Environmental factors or external influences: Reflection, assessment, direction in the suit's theme\",\n",
       "   'Position 9 Interpretation': \"Final outcome or resolution: Reflection, assessment, direction in the suit's theme\"}]]"
      ]
     },
     "execution_count": 91,
     "metadata": {},
     "output_type": "execute_result"
    }
   ],
   "source": [
    "read_3()"
   ]
  }
 ],
 "metadata": {
  "kernelspec": {
   "display_name": "Python 3 (ipykernel)",
   "language": "python",
   "name": "python3"
  },
  "language_info": {
   "codemirror_mode": {
    "name": "ipython",
    "version": 3
   },
   "file_extension": ".py",
   "mimetype": "text/x-python",
   "name": "python",
   "nbconvert_exporter": "python",
   "pygments_lexer": "ipython3",
   "version": "3.11.5"
  }
 },
 "nbformat": 4,
 "nbformat_minor": 5
}
