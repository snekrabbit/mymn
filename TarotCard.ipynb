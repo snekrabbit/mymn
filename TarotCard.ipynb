{
 "cells": [
  {
   "cell_type": "code",
   "execution_count": 10,
   "id": "e5675acd",
   "metadata": {
    "scrolled": true,
    "tags": []
   },
   "outputs": [],
   "source": [
    "import csv\n",
    "import os\n",
    "import random"
   ]
  },
  {
   "cell_type": "markdown",
   "id": "32793fe9",
   "metadata": {
    "tags": []
   },
   "source": [
    "In tarot, the suits represent different aspects of life and experiences. There are typically four suits in a standard tarot deck: Cups, Pentacles (also known as Coins or Discs), Swords, and Wands (or Rods). Each suit is associated with specific elements, themes, and areas of life:\n",
    "\n",
    "- Cups: Cups represent emotions, relationships, intuition, and the subconscious mind. They are associated with the element of water, which symbolizes fluidity, intuition, and the depths of the unconscious.\n",
    "\n",
    "- Pentacles: Pentacles represent the material world, including finances, career, health, and physical manifestations of abundance. They are associated with the element of earth, which signifies stability, practicality, and the tangible aspects of life.\n",
    "\n",
    "- Swords: Swords represent the intellect, thoughts, communication, and challenges related to the mind. They often signify conflict, mental clarity, decision-making, and the power of perception. Swords are associated with the element of air, symbolizing intellect, communication, and swift action.\n",
    "\n",
    "- Wands: Wands represent creativity, passion, inspiration, and spiritual energy. They are associated with the element of fire, symbolizing transformation, vitality, and the spark of innovation or growth."
   ]
  },
  {
   "cell_type": "code",
   "execution_count": 7,
   "id": "dc75a688",
   "metadata": {},
   "outputs": [],
   "source": [
    "def read_cards():\n",
    "    path = os.path.expanduser(\"~/data/tarot.csv\")\n",
    "    with open(path) as file:\n",
    "        row_reader = csv.DictReader(file)\n",
    "        cards = []\n",
    "        for card in row_reader:\n",
    "            cards.append(card)\n",
    "        return cards\n"
   ]
  },
  {
   "cell_type": "code",
   "execution_count": 3,
   "id": "94660f2d",
   "metadata": {},
   "outputs": [],
   "source": [
    "def choose_cards(cards, n):\n",
    "    choice = random.sample(cards, n)\n",
    "    return choice"
   ]
  },
  {
   "cell_type": "code",
   "execution_count": 4,
   "id": "0e754c8c",
   "metadata": {},
   "outputs": [],
   "source": [
    "Q3 = [\n",
    "    \"What is energizing me?\", \n",
    "    \"Where can I expect to need grace?\", \n",
    "    \"What should I take a closer look at?\"\n",
    "]\n",
    "def read_3():\n",
    "    deck = read_cards()\n",
    "    choice = choose_cards(deck, 3)\n",
    "    return [\n",
    "        [Q3[0], choice[0]],\n",
    "        [Q3[1], choice[1]],\n",
    "        [Q3[2], choice[2]]\n",
    "    ]"
   ]
  },
  {
   "cell_type": "code",
   "execution_count": 5,
   "id": "eb6d75fe",
   "metadata": {},
   "outputs": [],
   "source": [
    "def tarot():\n",
    "    spread = read_3()\n",
    "    print(\"Welcome to your future!\")\n",
    "    print()\n",
    "    for card in spread:\n",
    "        q = card[0]\n",
    "        c = card[1]\n",
    "        cn = c['Tarot Card']\n",
    "        cd = c['Meaning']\n",
    "        print(q)\n",
    "        print(\"  (\", cn, \") \", cd)\n",
    "        print()\n",
    "        input()\n"
   ]
  },
  {
   "cell_type": "code",
   "execution_count": null,
   "id": "4512266c",
   "metadata": {},
   "outputs": [
    {
     "name": "stdout",
     "output_type": "stream",
     "text": [
      "Welcome to your future!\n",
      "\n",
      "What is energizing me?\n",
      "  ( 8 of Pentacles )  Maturity, sensibility, motherliness in the suit's theme\n",
      "\n"
     ]
    },
    {
     "name": "stdin",
     "output_type": "stream",
     "text": [
      " \n"
     ]
    },
    {
     "name": "stdout",
     "output_type": "stream",
     "text": [
      "Where can I expect to need grace?\n",
      "  ( 1 of Wands )  The essence of a suit, a new beginning in the suit's theme\n",
      "\n"
     ]
    },
    {
     "name": "stdin",
     "output_type": "stream",
     "text": [
      " \n"
     ]
    },
    {
     "name": "stdout",
     "output_type": "stream",
     "text": [
      "What should I take a closer look at?\n",
      "  ( Knight of Cups )  Reflection, assessment, direction in the suit's theme\n",
      "\n"
     ]
    }
   ],
   "source": [
    "tarot()"
   ]
  },
  {
   "cell_type": "code",
   "execution_count": null,
   "id": "667a5d9d",
   "metadata": {},
   "outputs": [],
   "source": []
  },
  {
   "cell_type": "code",
   "execution_count": null,
   "id": "2166307c",
   "metadata": {},
   "outputs": [],
   "source": [
    "read_3()"
   ]
  }
 ],
 "metadata": {
  "kernelspec": {
   "display_name": "Python 3 (ipykernel)",
   "language": "python",
   "name": "python3"
  },
  "language_info": {
   "codemirror_mode": {
    "name": "ipython",
    "version": 3
   },
   "file_extension": ".py",
   "mimetype": "text/x-python",
   "name": "python",
   "nbconvert_exporter": "python",
   "pygments_lexer": "ipython3",
   "version": "3.9.17"
  }
 },
 "nbformat": 4,
 "nbformat_minor": 5
}
